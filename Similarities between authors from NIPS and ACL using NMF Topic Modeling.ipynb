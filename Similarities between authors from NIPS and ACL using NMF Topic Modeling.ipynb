{
 "cells": [
  {
   "cell_type": "code",
   "execution_count": 13,
   "metadata": {
    "collapsed": true
   },
   "outputs": [],
   "source": [
    "import pandas as pd\n",
    "import numpy as np\n",
    "from sklearn.manifold import TSNE\n",
    "from sklearn.feature_extraction.text import TfidfVectorizer\n",
    "from sklearn.decomposition import NMF\n",
    "\n",
    "#visualization packages\n",
    "import matplotlib.pyplot as plt\n",
    "import matplotlib.patches as mpatches\n",
    "import matplotlib\n",
    "%matplotlib inline\n",
    "import seaborn as sns\n"
   ]
  },
  {
   "cell_type": "markdown",
   "metadata": {},
   "source": [
    "# Data From NIPS importation"
   ]
  },
  {
   "cell_type": "code",
   "execution_count": 23,
   "metadata": {},
   "outputs": [
    {
     "data": {
      "text/html": [
       "<div>\n",
       "<style>\n",
       "    .dataframe thead tr:only-child th {\n",
       "        text-align: right;\n",
       "    }\n",
       "\n",
       "    .dataframe thead th {\n",
       "        text-align: left;\n",
       "    }\n",
       "\n",
       "    .dataframe tbody tr th {\n",
       "        vertical-align: top;\n",
       "    }\n",
       "</style>\n",
       "<table border=\"1\" class=\"dataframe\">\n",
       "  <thead>\n",
       "    <tr style=\"text-align: right;\">\n",
       "      <th></th>\n",
       "      <th>abstract</th>\n",
       "      <th>event_type</th>\n",
       "      <th>id</th>\n",
       "      <th>paper_text</th>\n",
       "      <th>pdf_name</th>\n",
       "      <th>title</th>\n",
       "      <th>year</th>\n",
       "    </tr>\n",
       "  </thead>\n",
       "  <tbody>\n",
       "    <tr>\n",
       "      <th>0</th>\n",
       "      <td>Abstract Missing</td>\n",
       "      <td>None</td>\n",
       "      <td>1</td>\n",
       "      <td>767\\n\\nSELF-ORGANIZATION OF ASSOCIATIVE DATABA...</td>\n",
       "      <td>1-self-organization-of-associative-database-an...</td>\n",
       "      <td>Self-Organization of Associative Database and ...</td>\n",
       "      <td>1987</td>\n",
       "    </tr>\n",
       "    <tr>\n",
       "      <th>1</th>\n",
       "      <td>Abstract Missing</td>\n",
       "      <td>None</td>\n",
       "      <td>10</td>\n",
       "      <td>683\\n\\nA MEAN FIELD THEORY OF LAYER IV OF VISU...</td>\n",
       "      <td>10-a-mean-field-theory-of-layer-iv-of-visual-c...</td>\n",
       "      <td>A Mean Field Theory of Layer IV of Visual Cort...</td>\n",
       "      <td>1987</td>\n",
       "    </tr>\n",
       "    <tr>\n",
       "      <th>10</th>\n",
       "      <td>Abstract Missing</td>\n",
       "      <td>None</td>\n",
       "      <td>1007</td>\n",
       "      <td>Learning To Play the Game of Chess\\n\\nSebastia...</td>\n",
       "      <td>1007-learning-to-play-the-game-of-chess.pdf</td>\n",
       "      <td>Learning to Play the Game of Chess</td>\n",
       "      <td>1994</td>\n",
       "    </tr>\n",
       "    <tr>\n",
       "      <th>100</th>\n",
       "      <td>Abstract Missing</td>\n",
       "      <td>None</td>\n",
       "      <td>1089</td>\n",
       "      <td>Beating a Defender in Robotic Soccer:\\nMemory-...</td>\n",
       "      <td>1089-beating-a-defender-in-robotic-soccer-memo...</td>\n",
       "      <td>Beating a Defender in Robotic Soccer: Memory-B...</td>\n",
       "      <td>1995</td>\n",
       "    </tr>\n",
       "    <tr>\n",
       "      <th>1000</th>\n",
       "      <td>Abstract Missing</td>\n",
       "      <td>None</td>\n",
       "      <td>1914</td>\n",
       "      <td>A tighter bound for graphical models\\n\\nM.A.R....</td>\n",
       "      <td>1914-a-tighter-bound-for-graphical-models.pdf</td>\n",
       "      <td>A Tighter Bound for Graphical Models</td>\n",
       "      <td>2000</td>\n",
       "    </tr>\n",
       "  </tbody>\n",
       "</table>\n",
       "</div>"
      ],
      "text/plain": [
       "              abstract event_type    id  \\\n",
       "0     Abstract Missing       None     1   \n",
       "1     Abstract Missing       None    10   \n",
       "10    Abstract Missing       None  1007   \n",
       "100   Abstract Missing       None  1089   \n",
       "1000  Abstract Missing       None  1914   \n",
       "\n",
       "                                             paper_text  \\\n",
       "0     767\\n\\nSELF-ORGANIZATION OF ASSOCIATIVE DATABA...   \n",
       "1     683\\n\\nA MEAN FIELD THEORY OF LAYER IV OF VISU...   \n",
       "10    Learning To Play the Game of Chess\\n\\nSebastia...   \n",
       "100   Beating a Defender in Robotic Soccer:\\nMemory-...   \n",
       "1000  A tighter bound for graphical models\\n\\nM.A.R....   \n",
       "\n",
       "                                               pdf_name  \\\n",
       "0     1-self-organization-of-associative-database-an...   \n",
       "1     10-a-mean-field-theory-of-layer-iv-of-visual-c...   \n",
       "10          1007-learning-to-play-the-game-of-chess.pdf   \n",
       "100   1089-beating-a-defender-in-robotic-soccer-memo...   \n",
       "1000      1914-a-tighter-bound-for-graphical-models.pdf   \n",
       "\n",
       "                                                  title  year  \n",
       "0     Self-Organization of Associative Database and ...  1987  \n",
       "1     A Mean Field Theory of Layer IV of Visual Cort...  1987  \n",
       "10                   Learning to Play the Game of Chess  1994  \n",
       "100   Beating a Defender in Robotic Soccer: Memory-B...  1995  \n",
       "1000               A Tighter Bound for Graphical Models  2000  "
      ]
     },
     "execution_count": 23,
     "metadata": {},
     "output_type": "execute_result"
    }
   ],
   "source": [
    "from pathlib import Path \n",
    "\n",
    "df = pd.read_json(\"nips/papers.json\")\n",
    "df.head()\n"
   ]
  },
  {
   "cell_type": "markdown",
   "metadata": {},
   "source": [
    "# Data From ACL importation"
   ]
  },
  {
   "cell_type": "code",
   "execution_count": 24,
   "metadata": {},
   "outputs": [],
   "source": [
    "import pandas as pd\n",
    "\n",
    "data = pd.read_csv('2014/paper_ids.txt', sep=\"\\t\", header=None)\n",
    "data.columns = ['id','paper','year']\n",
    "ids = data.id\n",
    "from pathlib import Path\n",
    "papers_ACL = []\n",
    "for el in ids:\n",
    "    name = Path('2014/papers_text/'+el+'.txt')\n",
    "    if name.is_file():   \n",
    "        with open(name, 'r') as myfile:\n",
    "            data = myfile.read().replace('\\n', '')\n",
    "            papers_ACL.append([el,data])"
   ]
  },
  {
   "cell_type": "markdown",
   "metadata": {},
   "source": [
    "# Cleaning function"
   ]
  },
  {
   "cell_type": "code",
   "execution_count": 12,
   "metadata": {
    "collapsed": true
   },
   "outputs": [],
   "source": [
    "def cleaning(paper):\n",
    "    # split into words\n",
    "    from nltk.tokenize import word_tokenize\n",
    "    tokens = word_tokenize(paper)\n",
    "    # convert to lower case\n",
    "    tokens = [w.lower() for w in tokens]\n",
    "    # remove punctuation from each word\n",
    "    import string\n",
    "    table = str.maketrans('', '', string.punctuation)\n",
    "    stripped = [w.translate(table) for w in tokens]\n",
    "    # remove remaining tokens that are not alphabetic\n",
    "    words = [word for word in stripped if word.isalpha()]\n",
    "    # filter out stop words\n",
    "    from nltk.corpus import stopwords\n",
    "    stop_words = set(stopwords.words('english'))\n",
    "    words = [w for w in words if not w in stop_words]\n",
    "    # stemming of words\n",
    "    from nltk.stem import WordNetLemmatizer\n",
    "    wordnet_lemmatizer = WordNetLemmatizer()\n",
    "    lematized = [wordnet_lemmatizer.lemmatize(word) for word in words]\n",
    "    lematized2 = [wordnet_lemmatizer.lemmatize(word,'v') for word in words]\n",
    "    # remove words of less than 3 characters\n",
    "    for word in lematized2:\n",
    "        if(len(word)<3):\n",
    "            lematized2.remove(word)  \n",
    "    return(lematized2)"
   ]
  },
  {
   "cell_type": "markdown",
   "metadata": {},
   "source": [
    "# Papers from NIPS ready for TFIDF"
   ]
  },
  {
   "cell_type": "code",
   "execution_count": 15,
   "metadata": {
    "collapsed": true
   },
   "outputs": [],
   "source": [
    "papers_NIPS_cleaned=[]\n",
    "papers_NIPS = df.paper_text\n",
    "for paper in papers_NIPS:\n",
    "    papers_NIPS_cleaned.append(cleaning(paper))"
   ]
  },
  {
   "cell_type": "code",
   "execution_count": 19,
   "metadata": {
    "collapsed": true
   },
   "outputs": [],
   "source": [
    "papers_cleaned=[]\n",
    "for i in range(0,len(papers_NIPS_cleaned)):\n",
    "    papers_cleaned.append(' '.join(papers_NIPS_cleaned[i]))"
   ]
  },
  {
   "cell_type": "markdown",
   "metadata": {},
   "source": [
    "# Papers from ACL ready for TFIDF after joining papers_NIPS"
   ]
  },
  {
   "cell_type": "code",
   "execution_count": 22,
   "metadata": {
    "collapsed": true
   },
   "outputs": [],
   "source": [
    "papers_ACL_cleaned=[]\n",
    "for i in range(0,len(papers_ACL)):\n",
    "    papers_ACL_cleaned.append(cleaning(papers_ACL[i][1]))"
   ]
  },
  {
   "cell_type": "code",
   "execution_count": 23,
   "metadata": {},
   "outputs": [
    {
     "data": {
      "text/plain": [
       "22460"
      ]
     },
     "execution_count": 23,
     "metadata": {},
     "output_type": "execute_result"
    }
   ],
   "source": [
    "len(papers_ACL_cleaned)"
   ]
  },
  {
   "cell_type": "code",
   "execution_count": 25,
   "metadata": {},
   "outputs": [
    {
     "data": {
      "text/plain": [
       "6560"
      ]
     },
     "execution_count": 25,
     "metadata": {},
     "output_type": "execute_result"
    }
   ],
   "source": [
    "len(papers_cleaned)"
   ]
  },
  {
   "cell_type": "code",
   "execution_count": 26,
   "metadata": {
    "collapsed": true
   },
   "outputs": [],
   "source": [
    "for i in range(0,len(papers_ACL_cleaned)):\n",
    "    papers_cleaned.append(' '.join(papers_ACL_cleaned[i]))"
   ]
  },
  {
   "cell_type": "code",
   "execution_count": 29,
   "metadata": {},
   "outputs": [
    {
     "data": {
      "text/plain": [
       "29020"
      ]
     },
     "execution_count": 29,
     "metadata": {},
     "output_type": "execute_result"
    }
   ],
   "source": [
    "len(papers_cleaned)"
   ]
  },
  {
   "cell_type": "markdown",
   "metadata": {},
   "source": [
    "# Export and import cleaned papers"
   ]
  },
  {
   "cell_type": "code",
   "execution_count": 30,
   "metadata": {
    "collapsed": true
   },
   "outputs": [],
   "source": [
    "import pickle\n",
    "\n",
    "with open('papers_cleaned.txt', 'wb') as fp:\n",
    "    pickle.dump(papers_cleaned, fp)"
   ]
  },
  {
   "cell_type": "code",
   "execution_count": 15,
   "metadata": {
    "collapsed": true
   },
   "outputs": [],
   "source": [
    "with open ('papers_cleaned.txt', 'rb') as fp:\n",
    "    papers_cleaned_load = pickle.load(fp)"
   ]
  },
  {
   "cell_type": "markdown",
   "metadata": {},
   "source": [
    "# TFIDF and NMF"
   ]
  },
  {
   "cell_type": "code",
   "execution_count": 16,
   "metadata": {
    "collapsed": true
   },
   "outputs": [],
   "source": [
    "#set parameters \n",
    "n_features = 100 #features to use in the tifidf transformation \n",
    "n_topics = 8  #number of topics that will be displayed  ###RELEVANT PARAMETER \n",
    "n_top_words = 10 #number of words composing each topic "
   ]
  },
  {
   "cell_type": "code",
   "execution_count": 17,
   "metadata": {
    "collapsed": true
   },
   "outputs": [],
   "source": [
    "#tfidf with n_features, removing stop words for English \n",
    "tfidf_vectorizer = TfidfVectorizer(max_df=0.95, min_df=0.2,max_features=n_features,stop_words='english')\n",
    "#fit tdidf with the paper_text\n",
    "tfidf = tfidf_vectorizer.fit_transform(papers_cleaned_load)"
   ]
  },
  {
   "cell_type": "code",
   "execution_count": 18,
   "metadata": {
    "collapsed": true
   },
   "outputs": [],
   "source": [
    "#transforming the tfidf representation into NMF matrix descomposition with n_topics as parameter\n",
    "nmf = NMF(n_components=n_topics, random_state=0,alpha=.1, l1_ratio=.5).fit(tfidf)\n",
    "##result in a 8*100 matrix"
   ]
  },
  {
   "cell_type": "code",
   "execution_count": 19,
   "metadata": {
    "collapsed": true
   },
   "outputs": [],
   "source": [
    "##Funtion to retrieve the n_top_words from the transformation \n",
    "##(taken from https://www.kaggle.com/dschniertshauer)\n",
    "def print_top_words(model, feature_names, n_top_words):\n",
    "    for topic_idx, topic in enumerate(model.components_):\n",
    "        print(\"\\nTopic #%d:\" % topic_idx)\n",
    "        print(\" \".join([feature_names[i]\n",
    "                        for i in topic.argsort()[:-n_top_words - 1:-1]]))\n",
    "    print()"
   ]
  },
  {
   "cell_type": "markdown",
   "metadata": {},
   "source": [
    "# Topics\n",
    "Topic 0: Information Extraction\n",
    "\n",
    "Topic 1: Stochastic Methods\n",
    "\n",
    "Topic 2: Parsing Techniques\n",
    "\n",
    "Topic 3: Probabilistic Methods\n",
    "\n",
    "Topic 4: Reinforcement Learning\n",
    "\n",
    "Topic 5: Translation Techniques\n",
    "\n",
    "Topic 6: Words Segmentation\n",
    "\n",
    "Topic 7: Training Neural Networks"
   ]
  },
  {
   "cell_type": "code",
   "execution_count": 20,
   "metadata": {},
   "outputs": [
    {
     "name": "stdout",
     "output_type": "stream",
     "text": [
      "Topics found via NMF:\n",
      "\n",
      "Topic #0:\n",
      "text document information language sentence semantic type corpus task al\n",
      "\n",
      "Topic #1:\n",
      "algorithm function learn set sample data problem value result point\n",
      "\n",
      "Topic #2:\n",
      "parse rule tree grammar sentence structure syntactic phrase semantic form\n",
      "\n",
      "Topic #3:\n",
      "model data train probability language figure state process al time\n",
      "\n",
      "Topic #4:\n",
      "feature train label data learn set task al tag test\n",
      "\n",
      "Topic #5:\n",
      "translation sentence machine language english phrase score target pair train\n",
      "\n",
      "Topic #6:\n",
      "word sense tag corpus lexical english cluster language table context\n",
      "\n",
      "Topic #7:\n",
      "network input learn weight train pattern figure time function state\n",
      "\n"
     ]
    }
   ],
   "source": [
    "##Printing the topics \n",
    "print(\"Topics found via NMF:\")\n",
    "tfidf_feature_names = tfidf_vectorizer.get_feature_names()\n",
    "print_top_words(nmf, tfidf_feature_names, n_top_words)"
   ]
  },
  {
   "cell_type": "code",
   "execution_count": 21,
   "metadata": {
    "collapsed": true
   },
   "outputs": [],
   "source": [
    "#Finding relation between topics and papers\n",
    "nmf_embedding = nmf.transform(tfidf)\n",
    "nmf_embedding = (nmf_embedding - nmf_embedding.mean(axis=0))/nmf_embedding.std(axis=0)\n"
   ]
  },
  {
   "cell_type": "code",
   "execution_count": 25,
   "metadata": {},
   "outputs": [
    {
     "name": "stdout",
     "output_type": "stream",
     "text": [
      "\n",
      "Topic 0:\n",
      "A00-1025\n",
      "P95-1042\n",
      "Q14-1012\n",
      "J02-4005\n",
      "W14-5210\n",
      "\n",
      "Topic 1:\n",
      "Stochastic Variance Reduction Methods for Saddle-Point Problems\n",
      "Random Walk Approach to Regret Minimization\n",
      "Stochastic Online AUC Maximization\n",
      "Bayesian Optimization with Exponential Convergence\n",
      "Fitted Q-iteration in continuous action-space MDPs\n",
      "\n",
      "Topic 2:\n",
      "P83-1018\n",
      "N03-2011\n",
      "I05-1013\n",
      "J83-2002\n",
      "E89-1003\n",
      "\n",
      "Topic 3:\n",
      "J88-3012\n",
      "Pairwise Choice Markov Chains\n",
      "Comparing Bayesian models for multisensory cue combination without mandatory integration\n",
      "W02-0505\n",
      "N03-2038\n",
      "\n",
      "Topic 4:\n",
      "E06-3008\n",
      "Do Convnets Learn Correspondence?\n",
      "A00-2028\n",
      "W11-0313\n",
      "N09-3010\n",
      "\n",
      "Topic 5:\n",
      "W02-0701\n",
      "P09-4005\n",
      "N04-4003\n",
      "C14-1192\n",
      "N10-1078\n",
      "\n",
      "Topic 6:\n",
      "C94-1049\n",
      "W10-3606\n",
      "W97-0120\n",
      "W10-3212\n",
      "C96-1035\n",
      "\n",
      "Topic 7:\n",
      "Learning in Networks of Nondeterministic Adaptive Logic Elements\n",
      "Dynamically-Adaptive Winner-Take-All Networks\n",
      "Skeletonization: A Technique for Trimming the Fat from a Network via Relevance Assessment\n",
      "Learning long-term dependencies is not as difficult with NARX networks\n",
      "Backpropagation for Energy-Efficient Neuromorphic Computing\n"
     ]
    }
   ],
   "source": [
    "##Getting the titles of the most related papers to the topics, \n",
    "##so the decision of the topic name, could be less subjective\n",
    "top_idx = np.argsort(nmf_embedding,axis=0)[-5:]\n",
    "##8 topics\n",
    "count = 0\n",
    "for idxs in top_idx.T: \n",
    "    print(\"\\nTopic {}:\".format(count))\n",
    "    for idx in idxs:\n",
    "        if(idx>6559):\n",
    "            print(papers_ACL[idx-6560][0])\n",
    "        else:\n",
    "            print(df.iloc[idx]['title'])\n",
    "    count += 1"
   ]
  },
  {
   "cell_type": "markdown",
   "metadata": {},
   "source": [
    "# Saving classification of papers"
   ]
  },
  {
   "cell_type": "code",
   "execution_count": 212,
   "metadata": {
    "collapsed": true
   },
   "outputs": [],
   "source": [
    "text_file=open(\"paperSource_paperID_paperTopic.csv\",\"w\")\n",
    "text_file.write(\"%s,%s,%s\\n\"%(\"source\",\"paper_id\",\"topic_id\"))\n",
    "j=0\n",
    "for i in range(len(papers_cleaned_load)):\n",
    "    if(i<6560):\n",
    "        text_file.write(\"NIPS,%s,%s \\n\"%(df.iloc[i].id,nmf_embedding.argmax(axis=1)[i]))\n",
    "        #print(\"NIPS\",\",\",df.iloc[i].id, \",\",nmf_embedding.argmax(axis=1)[i])\n",
    "    else:\n",
    "        text_file.write(\"ALC,%s,%s \\n\"%(papers_ACL[j][0],nmf_embedding.argmax(axis=1)[i]))\n",
    "        #print(\"ALC\",\",\",papers_ACL[j][0],\",\",nmf_embedding.argmax(axis=1)[i])\n",
    "        j+=1\n",
    "text_file.close()    "
   ]
  },
  {
   "cell_type": "code",
   "execution_count": 213,
   "metadata": {
    "collapsed": true
   },
   "outputs": [],
   "source": [
    "papers_topics = pd.read_csv('paperSource_paperID_paperTopic.csv')\n",
    "papers_authors_NIPS = pd.read_csv('Nips/paper_authors.csv')\n",
    "papers_authors_ACL = pd.read_csv('2014/paper_author_affiliations.txt',sep='\\t')\n",
    "del papers_authors_ACL['affiliation id']"
   ]
  },
  {
   "cell_type": "markdown",
   "metadata": {},
   "source": [
    "# Creation of a dictionary of authors and their topics"
   ]
  },
  {
   "cell_type": "code",
   "execution_count": 214,
   "metadata": {
    "collapsed": true
   },
   "outputs": [],
   "source": [
    "#paper_authors into a dict\n",
    "papers_authors_NIPS_transform = papers_authors_NIPS.groupby('paper_id')['author_id'].apply(list)\n",
    "papers_authors_ACL_transform = papers_authors_ACL.groupby('paper id')['author id'].apply(list)"
   ]
  },
  {
   "cell_type": "code",
   "execution_count": 246,
   "metadata": {
    "collapsed": true
   },
   "outputs": [],
   "source": [
    "authors_topics_NIPS_todos = {}\n",
    "authors_topics_ACL_todos = {}\n",
    "keyCountError = 0\n",
    "for i in range(0,len(papers_topics)):\n",
    "        if(papers_topics.iloc[i]['source']==\"NIPS\"):\n",
    "            try:\n",
    "                authors_paper = papers_authors_NIPS_transform[int(papers_topics.iloc[i]['paper_id'])]\n",
    "                for el in authors_paper:\n",
    "                    if(el in authors_topics_NIPS_todos):\n",
    "                        authors_topics_NIPS_todos[el]+=[papers_topics.iloc[i]['topic_id']]\n",
    "                    else:\n",
    "                        authors_topics_NIPS_todos[el] = [papers_topics.iloc[i]['topic_id']]\n",
    "            except KeyError:\n",
    "                keyCountError+=1\n",
    "        else:\n",
    "            try:\n",
    "                authors_paper = papers_authors_ACL_transform[papers_topics.iloc[i]['paper_id']]\n",
    "                for el in authors_paper:\n",
    "                    if(el in authors_topics_ACL_todos):\n",
    "                        authors_topics_ACL_todos[el]+=[papers_topics.iloc[i]['topic_id']]\n",
    "                    else:\n",
    "                        authors_topics_ACL_todos[el] = [papers_topics.iloc[i]['topic_id']]\n",
    "            except KeyError:\n",
    "                keyCountError+=1"
   ]
  },
  {
   "cell_type": "markdown",
   "metadata": {},
   "source": [
    "# Keep most common topic for each author"
   ]
  },
  {
   "cell_type": "code",
   "execution_count": 260,
   "metadata": {
    "collapsed": true
   },
   "outputs": [],
   "source": [
    "def most_common(lst):\n",
    "    return max(set(lst), key=lst.count)"
   ]
  },
  {
   "cell_type": "code",
   "execution_count": 264,
   "metadata": {
    "collapsed": true,
    "scrolled": true
   },
   "outputs": [],
   "source": [
    "authors_topics_NIPS_mc = {}\n",
    "for el in authors_topics_NIPS_todos:\n",
    "    authors_topics_NIPS_mc[el] = most_common(authors_topics_NIPS_todos[el])\n",
    "authors_topics_ACL_mc = {}\n",
    "for el in authors_topics_ACL_todos:\n",
    "    authors_topics_ACL_mc[el] = most_common(authors_topics_ACL_todos[el])"
   ]
  },
  {
   "cell_type": "markdown",
   "metadata": {},
   "source": [
    "# Authors per topic per source"
   ]
  },
  {
   "cell_type": "code",
   "execution_count": 303,
   "metadata": {
    "collapsed": true
   },
   "outputs": [],
   "source": [
    "topics_authors_NIPS = {}\n",
    "for i in range(0,n_topics):\n",
    "    topics_authors_NIPS[i] = []\n",
    "for el in authors_topics_NIPS_mc:\n",
    "    topics_authors_NIPS[authors_topics_NIPS_mc[el]]+=[el]"
   ]
  },
  {
   "cell_type": "code",
   "execution_count": 305,
   "metadata": {
    "collapsed": true
   },
   "outputs": [],
   "source": [
    "topics_authors_ACL = {}\n",
    "for i in range(0,n_topics):\n",
    "    topics_authors_ACL[i] = []\n",
    "for el in authors_topics_ACL_mc:\n",
    "    topics_authors_ACL[authors_topics_ACL_mc[el]]+=[el]"
   ]
  },
  {
   "cell_type": "markdown",
   "metadata": {},
   "source": [
    "# Export and import authors per topic per source"
   ]
  },
  {
   "cell_type": "code",
   "execution_count": 365,
   "metadata": {
    "collapsed": true
   },
   "outputs": [],
   "source": [
    "import pickle\n",
    "\n",
    "with open('topics_authors_NIPS.txt', 'wb') as fp:\n",
    "    pickle.dump(topics_authors_NIPS, fp)\n",
    "    \n",
    "with open('topics_authors_ACL.txt', 'wb') as fp:\n",
    "    pickle.dump(topics_authors_ACL, fp)"
   ]
  },
  {
   "cell_type": "code",
   "execution_count": 3,
   "metadata": {},
   "outputs": [],
   "source": [
    "import pickle\n",
    "with open ('topics_authors_NIPS.txt', 'rb') as fp:\n",
    "    topics_authors_NIPS = pickle.load(fp)\n",
    "    \n",
    "with open ('topics_authors_ACL.txt', 'rb') as fp:\n",
    "    topics_authors_ACL = pickle.load(fp)"
   ]
  },
  {
   "cell_type": "markdown",
   "metadata": {},
   "source": [
    "# Load names"
   ]
  },
  {
   "cell_type": "code",
   "execution_count": 4,
   "metadata": {
    "collapsed": true
   },
   "outputs": [],
   "source": [
    "authors_ACL = pd.read_csv('2014/author_ids.txt',sep='\\t',header=None)\n",
    "authors_ACL.columns = ['author_id','author_name']\n",
    "authors_NIPS = pd.read_csv('Nips/authors.csv')\n",
    "authors_NIPS.columns = ['author_id','author_name']"
   ]
  },
  {
   "cell_type": "code",
   "execution_count": 5,
   "metadata": {
    "collapsed": true
   },
   "outputs": [],
   "source": [
    "#authors_id into a dict\n",
    "authors_ACL_dict = authors_ACL.groupby('author_id')['author_name'].apply(list)\n",
    "authors_NIPS_dict = authors_NIPS.groupby('author_id')['author_name'].apply(list)"
   ]
  },
  {
   "cell_type": "markdown",
   "metadata": {},
   "source": [
    " # Given an author name from NIPS, return similar authors from ACL"
   ]
  },
  {
   "cell_type": "code",
   "execution_count": 6,
   "metadata": {
    "collapsed": true
   },
   "outputs": [],
   "source": [
    "def NIPS_to_ACL(author_name):\n",
    "    for i in range(0,len(authors_NIPS)):\n",
    "        if(authors_NIPS.iloc[i]['author_name']==author_name):\n",
    "            author_id = authors_NIPS.iloc[i]['author_id']\n",
    "    for i in range(0,n_topics):\n",
    "        if(author_id in topics_authors_NIPS[i]):\n",
    "            topic_id = i\n",
    "            break\n",
    "    ret = []\n",
    "    for el in topics_authors_ACL[topic_id]:\n",
    "        ret.append(authors_ACL_dict[el])\n",
    "    return ret"
   ]
  },
  {
   "cell_type": "code",
   "execution_count": 9,
   "metadata": {},
   "outputs": [
    {
     "data": {
      "text/plain": [
       "['Volk,Martin']"
      ]
     },
     "execution_count": 9,
     "metadata": {},
     "output_type": "execute_result"
    }
   ],
   "source": [
    "NIPS_to_ACL('M. J. Anderson')[0]"
   ]
  },
  {
   "cell_type": "markdown",
   "metadata": {},
   "source": [
    " # Given an author name from ACL, return similar authors from NIPS"
   ]
  },
  {
   "cell_type": "code",
   "execution_count": 10,
   "metadata": {
    "collapsed": true
   },
   "outputs": [],
   "source": [
    "def ACL_to_NIPS(author_name):\n",
    "    for i in range(0,len(authors_ACL)):\n",
    "        if(authors_ACL.iloc[i]['author_name']==author_name):\n",
    "            author_id = authors_ACL.iloc[i]['author_id']\n",
    "    for i in range(0,n_topics):\n",
    "        if(author_id in topics_authors_ACL[i]):\n",
    "            topic_id = i\n",
    "            break\n",
    "    ret = []\n",
    "    for el in topics_authors_NIPS[topic_id]:\n",
    "        ret.append(authors_NIPS_dict[el])\n",
    "    return ret"
   ]
  },
  {
   "cell_type": "code",
   "execution_count": 11,
   "metadata": {
    "scrolled": true
   },
   "outputs": [
    {
     "data": {
      "text/plain": [
       "['M. J. Anderson']"
      ]
     },
     "execution_count": 11,
     "metadata": {},
     "output_type": "execute_result"
    }
   ],
   "source": [
    "ACL_to_NIPS('Szpakowicz,Stan')[0]"
   ]
  },
  {
   "cell_type": "code",
   "execution_count": null,
   "metadata": {
    "collapsed": true
   },
   "outputs": [],
   "source": []
  }
 ],
 "metadata": {
  "kernelspec": {
   "display_name": "Python 3",
   "language": "python",
   "name": "python3"
  },
  "language_info": {
   "codemirror_mode": {
    "name": "ipython",
    "version": 3
   },
   "file_extension": ".py",
   "mimetype": "text/x-python",
   "name": "python",
   "nbconvert_exporter": "python",
   "pygments_lexer": "ipython3",
   "version": "3.6.1"
  }
 },
 "nbformat": 4,
 "nbformat_minor": 2
}
